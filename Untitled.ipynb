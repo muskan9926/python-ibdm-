{
 "cells": [
  {
   "cell_type": "code",
   "execution_count": 3,
   "id": "6f4e0b7b",
   "metadata": {},
   "outputs": [
    {
     "data": {
      "text/html": [
       "<h1>My Jupyter Notebook on IBM Watson Studio</h1>"
      ],
      "text/plain": [
       "<IPython.core.display.HTML object>"
      ]
     },
     "metadata": {},
     "output_type": "display_data"
    }
   ],
   "source": [
    "from IPython.core.display import display, HTML\n",
    "display(HTML('<h1>My Jupyter Notebook on IBM Watson Studio</h1>'))"
   ]
  },
  {
   "cell_type": "code",
   "execution_count": 9,
   "id": "ca37ea17",
   "metadata": {},
   "outputs": [
    {
     "data": {
      "text/html": [
       "<b>Muskan</b>"
      ],
      "text/plain": [
       "<IPython.core.display.HTML object>"
      ]
     },
     "metadata": {},
     "output_type": "display_data"
    },
    {
     "data": {
      "text/plain": [
       "'student'"
      ]
     },
     "metadata": {},
     "output_type": "display_data"
    }
   ],
   "source": [
    "display(HTML('<b>Muskan</b>'),'student') "
   ]
  },
  {
   "cell_type": "markdown",
   "id": "db2399d5",
   "metadata": {},
   "source": [
    "display(HTML('<b>Muskan</b>'),'student') "
   ]
  },
  {
   "cell_type": "code",
   "execution_count": 11,
   "id": "2ed1ef41",
   "metadata": {},
   "outputs": [
    {
     "data": {
      "text/html": [
       "<i>hello i  am very intrested in this</i>"
      ],
      "text/plain": [
       "<IPython.core.display.HTML object>"
      ]
     },
     "metadata": {},
     "output_type": "display_data"
    }
   ],
   "source": [
    "display(HTML('<i>hello i  am very intrested in this</i>')) "
   ]
  },
  {
   "cell_type": "code",
   "execution_count": 12,
   "id": "3eec6d15",
   "metadata": {},
   "outputs": [
    {
     "data": {
      "text/html": [
       "<h3>My we are adding two numbers</h3>"
      ],
      "text/plain": [
       "<IPython.core.display.HTML object>"
      ]
     },
     "metadata": {},
     "output_type": "display_data"
    }
   ],
   "source": [
    "display(HTML('<h3>My we are adding two numbers</h3>'))"
   ]
  },
  {
   "cell_type": "code",
   "execution_count": 13,
   "id": "18c80297",
   "metadata": {},
   "outputs": [
    {
     "data": {
      "text/plain": [
       "2"
      ]
     },
     "execution_count": 13,
     "metadata": {},
     "output_type": "execute_result"
    }
   ],
   "source": [
    "1+1"
   ]
  },
  {
   "cell_type": "code",
   "execution_count": null,
   "id": "40643434",
   "metadata": {},
   "outputs": [],
   "source": []
  }
 ],
 "metadata": {
  "kernelspec": {
   "display_name": "Python 3 (ipykernel)",
   "language": "python",
   "name": "python3"
  },
  "language_info": {
   "codemirror_mode": {
    "name": "ipython",
    "version": 3
   },
   "file_extension": ".py",
   "mimetype": "text/x-python",
   "name": "python",
   "nbconvert_exporter": "python",
   "pygments_lexer": "ipython3",
   "version": "3.7.13"
  }
 },
 "nbformat": 4,
 "nbformat_minor": 5
}
